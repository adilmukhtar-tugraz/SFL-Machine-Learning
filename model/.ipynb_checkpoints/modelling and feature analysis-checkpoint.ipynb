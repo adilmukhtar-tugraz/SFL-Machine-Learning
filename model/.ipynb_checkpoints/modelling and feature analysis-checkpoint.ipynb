{
 "cells": [
  {
   "cell_type": "code",
   "execution_count": 289,
   "id": "african-tracy",
   "metadata": {},
   "outputs": [],
   "source": [
    "import json\n",
    "import pandas as pd\n",
    "import numpy as np\n",
    "from sklearn.feature_selection import SelectKBest\n",
    "from sklearn.feature_selection import chi2\n",
    "from sklearn.model_selection import train_test_split\n",
    "from sklearn import preprocessing\n",
    "from sklearn.ensemble import ExtraTreesClassifier\n",
    "import matplotlib.pyplot as plt\n",
    "import seaborn as sns\n",
    "fig_dims = (12, 8)\n",
    "from sklearn import metrics\n",
    "import warnings\n",
    "warnings.filterwarnings('ignore')\n",
    "from openpyxl import Workbook"
   ]
  },
  {
   "cell_type": "code",
   "execution_count": 266,
   "id": "turkish-fitting",
   "metadata": {},
   "outputs": [],
   "source": [
    "def gen_eval_metrics(y_test, pred):\n",
    "    print(\"Accuracy:\", accuracy_score(y_test, pred))\n",
    "    print(\"F1:\", f1_score(y_test, pred))\n",
    "    print(\"Recall:\", recall_score(y_test, pred))\n",
    "    print(\"Precision:\", precision_score(y_test, pred))\n",
    "    data = confusion_matrix(y_test, pred)\n",
    "    df_cm = pd.DataFrame(data, columns=np.unique(y_test), index = np.unique(y_test))\n",
    "    df_cm.index.name = 'Actual'\n",
    "    df_cm.columns.name = 'Predicted'\n",
    "    plt.figure(figsize = (10,7))\n",
    "    sn.set(font_scale=1.4)#for label size\n",
    "    sn.heatmap(df_cm, cmap=\"Blues\", annot=True,annot_kws={\"size\": 16})# font size\n",
    "    print(classification_report(y_test,pred))"
   ]
  },
  {
   "cell_type": "code",
   "execution_count": 267,
   "id": "promotional-parent",
   "metadata": {},
   "outputs": [],
   "source": [
    "with open('data.json') as json_file:\n",
    "    data = json.load(json_file)\n",
    "    \n",
    "data = pd.DataFrame.from_dict(data, orient='index')\n",
    "data.reset_index(level=0, inplace=True)\n",
    "data = data.transpose()\n",
    "new_header = data.iloc[0] #grab the first row for the header\n",
    "data = data[1:] #take the data less the header row\n",
    "data.columns = new_header #set the header row as the df header\n",
    "coefficients_label = list(data.keys())\n",
    "coefficients_label.remove('Faulty')"
   ]
  },
  {
   "cell_type": "code",
   "execution_count": 268,
   "id": "computational-aviation",
   "metadata": {},
   "outputs": [
    {
     "data": {
      "image/png": "[encoded data removed]",
      "text/plain": [
       "<Figure size 864x576 with 1 Axes>"
      ]
     },
     "metadata": {},
     "output_type": "display_data"
    }
   ],
   "source": [
    "fig, ax = plt.subplots(figsize=fig_dims)\n",
    "sns_countplot = sns.countplot(x=\"Faulty\", data=data)\n",
    "figure = sns_countplot.get_figure() "
   ]
  },
  {
   "cell_type": "code",
   "execution_count": 269,
   "id": "least-uruguay",
   "metadata": {},
   "outputs": [
    {
     "data": {
      "text/plain": [
       "0.0    217998\n",
       "1.0       700\n",
       "Name: Faulty, dtype: int64"
      ]
     },
     "execution_count": 269,
     "metadata": {},
     "output_type": "execute_result"
    }
   ],
   "source": [
    "data.Faulty.value_counts()"
   ]
  },
  {
   "cell_type": "code",
   "execution_count": 270,
   "id": "opening-worship",
   "metadata": {},
   "outputs": [
    {
     "data": {
      "text/html": [
       "<div>\n",
       "<style scoped>\n",
       "    .dataframe tbody tr th:only-of-type {\n",
       "        vertical-align: middle;\n",
       "    }\n",
       "\n",
       "    .dataframe tbody tr th {\n",
       "        vertical-align: top;\n",
       "    }\n",
       "\n",
       "    .dataframe thead th {\n",
       "        text-align: right;\n",
       "    }\n",
       "</style>\n",
       "<table border=\"1\" class=\"dataframe\">\n",
       "  <thead>\n",
       "    <tr style=\"text-align: right;\">\n",
       "      <th></th>\n",
       "      <th>Least Contradiction</th>\n",
       "      <th>Anderberg</th>\n",
       "      <th>Phi-Coefficient</th>\n",
       "      <th>Support</th>\n",
       "      <th>Odd Multiplier</th>\n",
       "      <th>Jaccard</th>\n",
       "      <th>Interest</th>\n",
       "      <th>Goodman and Kruskal</th>\n",
       "      <th>Accuracy</th>\n",
       "      <th>Interestingness Weighting Dependency</th>\n",
       "      <th>...</th>\n",
       "      <th>Sorensen-Dice</th>\n",
       "      <th>One-Way Support</th>\n",
       "      <th>Yule's Y</th>\n",
       "      <th>J-Measure</th>\n",
       "      <th>Piatetsky-Shapiro</th>\n",
       "      <th>Gini Index</th>\n",
       "      <th>Yule's Q</th>\n",
       "      <th>Relative Risk</th>\n",
       "      <th>Tarantula</th>\n",
       "      <th>Faulty</th>\n",
       "    </tr>\n",
       "  </thead>\n",
       "  <tbody>\n",
       "    <tr>\n",
       "      <th>0</th>\n",
       "      <td>0.987041</td>\n",
       "      <td>0.197408</td>\n",
       "      <td>0.558776</td>\n",
       "      <td>0.055237</td>\n",
       "      <td>0.001913</td>\n",
       "      <td>0.141006</td>\n",
       "      <td>0.000739</td>\n",
       "      <td>0.125</td>\n",
       "      <td>0.659259</td>\n",
       "      <td>0.157558</td>\n",
       "      <td>...</td>\n",
       "      <td>0.24676</td>\n",
       "      <td>0.041194</td>\n",
       "      <td>1.0</td>\n",
       "      <td>0.013921</td>\n",
       "      <td>0.423868</td>\n",
       "      <td>0.087872</td>\n",
       "      <td>1.0</td>\n",
       "      <td>0.0</td>\n",
       "      <td>0.652174</td>\n",
       "      <td>0</td>\n",
       "    </tr>\n",
       "    <tr>\n",
       "      <th>1</th>\n",
       "      <td>0.987041</td>\n",
       "      <td>0.197408</td>\n",
       "      <td>0.558776</td>\n",
       "      <td>0.055237</td>\n",
       "      <td>0.001913</td>\n",
       "      <td>0.141006</td>\n",
       "      <td>0.000739</td>\n",
       "      <td>0.125</td>\n",
       "      <td>0.659259</td>\n",
       "      <td>0.157558</td>\n",
       "      <td>...</td>\n",
       "      <td>0.24676</td>\n",
       "      <td>0.041194</td>\n",
       "      <td>1.0</td>\n",
       "      <td>0.013921</td>\n",
       "      <td>0.423868</td>\n",
       "      <td>0.087872</td>\n",
       "      <td>1.0</td>\n",
       "      <td>0.0</td>\n",
       "      <td>0.652174</td>\n",
       "      <td>0</td>\n",
       "    </tr>\n",
       "    <tr>\n",
       "      <th>2</th>\n",
       "      <td>1.000000</td>\n",
       "      <td>1.000000</td>\n",
       "      <td>1.000000</td>\n",
       "      <td>0.055237</td>\n",
       "      <td>0.000000</td>\n",
       "      <td>1.000000</td>\n",
       "      <td>0.005947</td>\n",
       "      <td>1.000</td>\n",
       "      <td>1.000000</td>\n",
       "      <td>0.949014</td>\n",
       "      <td>...</td>\n",
       "      <td>1.00000</td>\n",
       "      <td>0.377360</td>\n",
       "      <td>1.0</td>\n",
       "      <td>0.039123</td>\n",
       "      <td>0.473251</td>\n",
       "      <td>0.209877</td>\n",
       "      <td>1.0</td>\n",
       "      <td>0.0</td>\n",
       "      <td>1.000000</td>\n",
       "      <td>1</td>\n",
       "    </tr>\n",
       "    <tr>\n",
       "      <th>3</th>\n",
       "      <td>0.987041</td>\n",
       "      <td>0.197408</td>\n",
       "      <td>0.558776</td>\n",
       "      <td>0.055237</td>\n",
       "      <td>0.001913</td>\n",
       "      <td>0.141006</td>\n",
       "      <td>0.000739</td>\n",
       "      <td>0.125</td>\n",
       "      <td>0.659259</td>\n",
       "      <td>0.157558</td>\n",
       "      <td>...</td>\n",
       "      <td>0.24676</td>\n",
       "      <td>0.041194</td>\n",
       "      <td>1.0</td>\n",
       "      <td>0.013921</td>\n",
       "      <td>0.423868</td>\n",
       "      <td>0.087872</td>\n",
       "      <td>1.0</td>\n",
       "      <td>0.0</td>\n",
       "      <td>0.652174</td>\n",
       "      <td>0</td>\n",
       "    </tr>\n",
       "    <tr>\n",
       "      <th>4</th>\n",
       "      <td>0.987041</td>\n",
       "      <td>0.197408</td>\n",
       "      <td>0.558776</td>\n",
       "      <td>0.055237</td>\n",
       "      <td>0.001913</td>\n",
       "      <td>0.141006</td>\n",
       "      <td>0.000739</td>\n",
       "      <td>0.125</td>\n",
       "      <td>0.659259</td>\n",
       "      <td>0.157558</td>\n",
       "      <td>...</td>\n",
       "      <td>0.24676</td>\n",
       "      <td>0.041194</td>\n",
       "      <td>1.0</td>\n",
       "      <td>0.013921</td>\n",
       "      <td>0.423868</td>\n",
       "      <td>0.087872</td>\n",
       "      <td>1.0</td>\n",
       "      <td>0.0</td>\n",
       "      <td>0.652174</td>\n",
       "      <td>0</td>\n",
       "    </tr>\n",
       "  </tbody>\n",
       "</table>\n",
       "<p>5 rows × 44 columns</p>\n",
       "</div>"
      ],
      "text/plain": [
       "   Least Contradiction  Anderberg  Phi-Coefficient   Support  Odd Multiplier  \\\n",
       "0             0.987041   0.197408         0.558776  0.055237        0.001913   \n",
       "1             0.987041   0.197408         0.558776  0.055237        0.001913   \n",
       "2             1.000000   1.000000         1.000000  0.055237        0.000000   \n",
       "3             0.987041   0.197408         0.558776  0.055237        0.001913   \n",
       "4             0.987041   0.197408         0.558776  0.055237        0.001913   \n",
       "\n",
       "    Jaccard  Interest  Goodman and Kruskal  Accuracy  \\\n",
       "0  0.141006  0.000739                0.125  0.659259   \n",
       "1  0.141006  0.000739                0.125  0.659259   \n",
       "2  1.000000  0.005947                1.000  1.000000   \n",
       "3  0.141006  0.000739                0.125  0.659259   \n",
       "4  0.141006  0.000739                0.125  0.659259   \n",
       "\n",
       "   Interestingness Weighting Dependency  ...  Sorensen-Dice  One-Way Support  \\\n",
       "0                              0.157558  ...        0.24676         0.041194   \n",
       "1                              0.157558  ...        0.24676         0.041194   \n",
       "2                              0.949014  ...        1.00000         0.377360   \n",
       "3                              0.157558  ...        0.24676         0.041194   \n",
       "4                              0.157558  ...        0.24676         0.041194   \n",
       "\n",
       "   Yule's Y  J-Measure  Piatetsky-Shapiro  Gini Index  Yule's Q  \\\n",
       "0       1.0   0.013921           0.423868    0.087872       1.0   \n",
       "1       1.0   0.013921           0.423868    0.087872       1.0   \n",
       "2       1.0   0.039123           0.473251    0.209877       1.0   \n",
       "3       1.0   0.013921           0.423868    0.087872       1.0   \n",
       "4       1.0   0.013921           0.423868    0.087872       1.0   \n",
       "\n",
       "   Relative Risk  Tarantula  Faulty  \n",
       "0            0.0   0.652174       0  \n",
       "1            0.0   0.652174       0  \n",
       "2            0.0   1.000000       1  \n",
       "3            0.0   0.652174       0  \n",
       "4            0.0   0.652174       0  \n",
       "\n",
       "[5 rows x 44 columns]"
      ]
     },
     "execution_count": 270,
     "metadata": {},
     "output_type": "execute_result"
    }
   ],
   "source": [
    "y = data['Faulty']\n",
    "y = y.astype(int)\n",
    "X = data.loc[:, data.columns != 'Faulty']\n",
    "x = X.values #returns a numpy array\n",
    "min_max_scaler = preprocessing.MinMaxScaler()\n",
    "x_scaled = min_max_scaler.fit_transform(x)\n",
    "X = x_scaled\n",
    "df = pd.DataFrame(X)\n",
    "df.columns = coefficients_label\n",
    "df['Faulty'] = y \n",
    "df.head()\n",
    "#X_train, X_test, y_train, y_test = train_test_split(pd.DataFrame(X), y, test_size=0.25, random_state=27)\n",
    "#len(X_train), len(y_train)"
   ]
  },
  {
   "cell_type": "code",
   "execution_count": 272,
   "id": "behind-gothic",
   "metadata": {},
   "outputs": [],
   "source": [
    "df_faulty = df.loc[df['Faulty'] == 1]\n",
    "df_notFaulty = df.loc[df['Faulty'] == 0][:700]"
   ]
  },
  {
   "cell_type": "code",
   "execution_count": 273,
   "id": "patent-nylon",
   "metadata": {},
   "outputs": [],
   "source": [
    "frames = [df_faulty, df_notFaulty]\n",
    "df_balanced = pd.concat(frames)"
   ]
  },
  {
   "cell_type": "code",
   "execution_count": 274,
   "id": "unlimited-crystal",
   "metadata": {},
   "outputs": [
    {
     "data": {
      "text/plain": [
       "0    700\n",
       "1    700\n",
       "Name: Faulty, dtype: int64"
      ]
     },
     "execution_count": 274,
     "metadata": {},
     "output_type": "execute_result"
    }
   ],
   "source": [
    "df_balanced.Faulty.value_counts()"
   ]
  },
  {
   "cell_type": "code",
   "execution_count": 275,
   "id": "anonymous-electronics",
   "metadata": {},
   "outputs": [],
   "source": [
    "from numpy import mean\n",
    "from numpy import std\n",
    "from sklearn.datasets import make_classification\n",
    "from sklearn.model_selection import cross_val_score\n",
    "from sklearn.model_selection import StratifiedKFold\n",
    "from sklearn.model_selection import RepeatedStratifiedKFold\n",
    "from sklearn.ensemble import RandomForestClassifier\n",
    "from sklearn.metrics import precision_score\n",
    "from sklearn.metrics import confusion_matrix\n",
    "import seaborn as sn\n",
    "from sklearn.ensemble import RandomForestClassifier\n",
    "from sklearn.model_selection import GridSearchCV\n",
    "from sklearn.model_selection import cross_validate\n",
    "import numpy as np \n",
    "from sklearn.model_selection import RandomizedSearchCV\n",
    "from sklearn.model_selection import cross_val_score\n",
    "from sklearn.metrics import classification_report, f1_score, recall_score"
   ]
  },
  {
   "cell_type": "code",
   "execution_count": 276,
   "id": "failing-mother",
   "metadata": {},
   "outputs": [],
   "source": [
    "y = df_balanced['Faulty'].values\n",
    "X = df_balanced.loc[:, df_balanced.columns != 'Faulty'].values\n",
    "df_X = df_balanced.loc[:, df_balanced.columns != 'Faulty']"
   ]
  },
  {
   "cell_type": "code",
   "execution_count": 277,
   "id": "million-belarus",
   "metadata": {},
   "outputs": [
    {
     "data": {
      "text/plain": [
       "(1050, 1050)"
      ]
     },
     "execution_count": 277,
     "metadata": {},
     "output_type": "execute_result"
    }
   ],
   "source": [
    "X_train, X_test, y_train, y_test = train_test_split(pd.DataFrame(X), y, test_size=0.25, random_state=27)\n",
    "len(X_train), len(y_train)"
   ]
  },
  {
   "cell_type": "code",
   "execution_count": 278,
   "id": "above-trunk",
   "metadata": {},
   "outputs": [
    {
     "name": "stdout",
     "output_type": "stream",
     "text": [
      "Fitting 4 folds for each of 80 candidates, totalling 320 fits\n"
     ]
    },
    {
     "data": {
      "text/plain": [
       "RandomizedSearchCV(cv=4, estimator=RandomForestClassifier(), n_iter=80,\n",
       "                   n_jobs=-1,\n",
       "                   param_distributions={'criterion': ['entropy', 'gini'],\n",
       "                                        'max_depth': [10, 142, 274, 406, 538,\n",
       "                                                      671, 803, 935, 1067, 1200,\n",
       "                                                      None],\n",
       "                                        'max_features': ['auto', 'sqrt', 'log2',\n",
       "                                                         None],\n",
       "                                        'min_samples_leaf': [4, 6, 8, 12],\n",
       "                                        'min_samples_split': [5, 7, 10, 14],\n",
       "                                        'n_estimators': [151, 267, 384, 500,\n",
       "                                                         617, 733, 850, 966,\n",
       "                                                         1083, 1200]},\n",
       "                   random_state=101, verbose=5)"
      ]
     },
     "execution_count": 278,
     "metadata": {},
     "output_type": "execute_result"
    }
   ],
   "source": [
    "random_search = {'criterion': ['entropy', 'gini'],\n",
    "               'max_depth': list(np.linspace(10, 1200, 10, dtype = int)) + [None],\n",
    "               'max_features': ['auto', 'sqrt','log2', None],\n",
    "               'min_samples_leaf': [4, 6, 8, 12],\n",
    "               'min_samples_split': [5, 7, 10, 14],\n",
    "               'n_estimators': list(np.linspace(151, 1200, 10, dtype = int))}\n",
    "clf = RandomForestClassifier()\n",
    "model_RF = RandomizedSearchCV(estimator = clf, param_distributions = random_search, n_iter = 80, \n",
    "                               cv = 4, verbose= 5, random_state= 101, n_jobs = -1)\n",
    "model_RF.fit(X_train,y_train)"
   ]
  },
  {
   "cell_type": "code",
   "execution_count": 279,
   "id": "informative-giant",
   "metadata": {},
   "outputs": [
    {
     "data": {
      "text/plain": [
       "<AxesSubplot:xlabel='param_criterion', ylabel='param_n_estimators'>"
      ]
     },
     "execution_count": 279,
     "metadata": {},
     "output_type": "execute_result"
    },
    {
     "data": {
      "image/png": "[encoded data removed]",
      "text/plain": [
       "<Figure size 432x288 with 2 Axes>"
      ]
     },
     "metadata": {},
     "output_type": "display_data"
    }
   ],
   "source": [
    "import seaborn as sns\n",
    "\n",
    "table = pd.pivot_table(pd.DataFrame(model_RF.cv_results_),\n",
    "    values='mean_test_score', index='param_n_estimators', \n",
    "                       columns='param_criterion')\n",
    "     \n",
    "sns.heatmap(table)"
   ]
  },
  {
   "cell_type": "code",
   "execution_count": 280,
   "id": "complicated-madonna",
   "metadata": {},
   "outputs": [
    {
     "name": "stdout",
     "output_type": "stream",
     "text": [
      "Accuracy: 0.96\n",
      "F1: 0.9613259668508287\n",
      "Recall: 0.925531914893617\n",
      "Precision: 1.0\n",
      "              precision    recall  f1-score   support\n",
      "\n",
      "           0       0.92      1.00      0.96       162\n",
      "           1       1.00      0.93      0.96       188\n",
      "\n",
      "    accuracy                           0.96       350\n",
      "   macro avg       0.96      0.96      0.96       350\n",
      "weighted avg       0.96      0.96      0.96       350\n",
      "\n"
     ]
    },
    {
     "data": {
      "image/png": "[encoded data removed]",
      "text/plain": [
       "<Figure size 720x504 with 2 Axes>"
      ]
     },
     "metadata": {},
     "output_type": "display_data"
    }
   ],
   "source": [
    "pred = model_RF.predict(X_test)\n",
    "gen_eval_metrics(y_test, pred)"
   ]
  },
  {
   "cell_type": "code",
   "execution_count": null,
   "id": "romance-bulgaria",
   "metadata": {},
   "outputs": [],
   "source": [
    "#########################################################"
   ]
  },
  {
   "cell_type": "code",
   "execution_count": 291,
   "id": "distributed-midnight",
   "metadata": {},
   "outputs": [
    {
     "name": "stdout",
     "output_type": "stream",
     "text": [
      "LogisticRegression accuracy: 0.910000 (0.026380)\n",
      "LogisticRegression f1: 0.907098 (0.022026)\n",
      "LogisticRegression precision: 0.961857 (0.021109)\n",
      "LogisticRegression recall: 0.861837 (0.044741)\n",
      "KNeighborsClassifier accuracy: 0.779286 (0.033266)\n",
      "KNeighborsClassifier f1: 0.816230 (0.027983)\n",
      "KNeighborsClassifier precision: 0.700916 (0.025315)\n",
      "KNeighborsClassifier recall: 0.985752 (0.010600)\n",
      "SVC accuracy: 0.900000 (0.024537)\n",
      "SVC f1: 0.892536 (0.025510)\n",
      "SVC precision: 0.952144 (0.019900)\n",
      "SVC recall: 0.841164 (0.022536)\n",
      "NuSVC accuracy: 0.888571 (0.020000)\n",
      "NuSVC f1: 0.882213 (0.027038)\n",
      "NuSVC precision: 0.929765 (0.038454)\n",
      "NuSVC recall: 0.839717 (0.060235)\n",
      "DecisionTreeClassifier accuracy: 0.952857 (0.010690)\n",
      "DecisionTreeClassifier f1: 0.948251 (0.015877)\n",
      "DecisionTreeClassifier precision: 0.971973 (0.018133)\n",
      "DecisionTreeClassifier recall: 0.930539 (0.037439)\n",
      "RandomForestClassifier accuracy: 0.952857 (0.010202)\n",
      "RandomForestClassifier f1: 0.949074 (0.023767)\n",
      "RandomForestClassifier precision: 0.973351 (0.018992)\n",
      "RandomForestClassifier recall: 0.933468 (0.030633)\n",
      "[13:35:17] WARNING: C:/Users/Administrator/workspace/xgboost-win64_release_1.3.0/src/learner.cc:1061: Starting in XGBoost 1.3.0, the default evaluation metric used with the objective 'binary:logistic' was changed from 'error' to 'logloss'. Explicitly set eval_metric if you'd like to restore the old behavior.\n",
      "[13:35:17] WARNING: C:/Users/Administrator/workspace/xgboost-win64_release_1.3.0/src/learner.cc:1061: Starting in XGBoost 1.3.0, the default evaluation metric used with the objective 'binary:logistic' was changed from 'error' to 'logloss'. Explicitly set eval_metric if you'd like to restore the old behavior.\n",
      "[13:35:17] WARNING: C:/Users/Administrator/workspace/xgboost-win64_release_1.3.0/src/learner.cc:1061: Starting in XGBoost 1.3.0, the default evaluation metric used with the objective 'binary:logistic' was changed from 'error' to 'logloss'. Explicitly set eval_metric if you'd like to restore the old behavior.\n",
      "[13:35:17] WARNING: C:/Users/Administrator/workspace/xgboost-win64_release_1.3.0/src/learner.cc:1061: Starting in XGBoost 1.3.0, the default evaluation metric used with the objective 'binary:logistic' was changed from 'error' to 'logloss'. Explicitly set eval_metric if you'd like to restore the old behavior.\n",
      "[13:35:17] WARNING: C:/Users/Administrator/workspace/xgboost-win64_release_1.3.0/src/learner.cc:1061: Starting in XGBoost 1.3.0, the default evaluation metric used with the objective 'binary:logistic' was changed from 'error' to 'logloss'. Explicitly set eval_metric if you'd like to restore the old behavior.\n",
      "[13:35:17] WARNING: C:/Users/Administrator/workspace/xgboost-win64_release_1.3.0/src/learner.cc:1061: Starting in XGBoost 1.3.0, the default evaluation metric used with the objective 'binary:logistic' was changed from 'error' to 'logloss'. Explicitly set eval_metric if you'd like to restore the old behavior.\n",
      "[13:35:17] WARNING: C:/Users/Administrator/workspace/xgboost-win64_release_1.3.0/src/learner.cc:1061: Starting in XGBoost 1.3.0, the default evaluation metric used with the objective 'binary:logistic' was changed from 'error' to 'logloss'. Explicitly set eval_metric if you'd like to restore the old behavior.\n",
      "[13:35:17] WARNING: C:/Users/Administrator/workspace/xgboost-win64_release_1.3.0/src/learner.cc:1061: Starting in XGBoost 1.3.0, the default evaluation metric used with the objective 'binary:logistic' was changed from 'error' to 'logloss'. Explicitly set eval_metric if you'd like to restore the old behavior.\n",
      "[13:35:18] WARNING: C:/Users/Administrator/workspace/xgboost-win64_release_1.3.0/src/learner.cc:1061: Starting in XGBoost 1.3.0, the default evaluation metric used with the objective 'binary:logistic' was changed from 'error' to 'logloss'. Explicitly set eval_metric if you'd like to restore the old behavior.\n",
      "[13:35:18] WARNING: C:/Users/Administrator/workspace/xgboost-win64_release_1.3.0/src/learner.cc:1061: Starting in XGBoost 1.3.0, the default evaluation metric used with the objective 'binary:logistic' was changed from 'error' to 'logloss'. Explicitly set eval_metric if you'd like to restore the old behavior.\n",
      "XGBClassifier accuracy: 0.949286 (0.013344)\n",
      "[13:35:18] WARNING: C:/Users/Administrator/workspace/xgboost-win64_release_1.3.0/src/learner.cc:1061: Starting in XGBoost 1.3.0, the default evaluation metric used with the objective 'binary:logistic' was changed from 'error' to 'logloss'. Explicitly set eval_metric if you'd like to restore the old behavior.\n",
      "[13:35:18] WARNING: C:/Users/Administrator/workspace/xgboost-win64_release_1.3.0/src/learner.cc:1061: Starting in XGBoost 1.3.0, the default evaluation metric used with the objective 'binary:logistic' was changed from 'error' to 'logloss'. Explicitly set eval_metric if you'd like to restore the old behavior.\n",
      "[13:35:18] WARNING: C:/Users/Administrator/workspace/xgboost-win64_release_1.3.0/src/learner.cc:1061: Starting in XGBoost 1.3.0, the default evaluation metric used with the objective 'binary:logistic' was changed from 'error' to 'logloss'. Explicitly set eval_metric if you'd like to restore the old behavior.\n",
      "[13:35:18] WARNING: C:/Users/Administrator/workspace/xgboost-win64_release_1.3.0/src/learner.cc:1061: Starting in XGBoost 1.3.0, the default evaluation metric used with the objective 'binary:logistic' was changed from 'error' to 'logloss'. Explicitly set eval_metric if you'd like to restore the old behavior.\n",
      "[13:35:18] WARNING: C:/Users/Administrator/workspace/xgboost-win64_release_1.3.0/src/learner.cc:1061: Starting in XGBoost 1.3.0, the default evaluation metric used with the objective 'binary:logistic' was changed from 'error' to 'logloss'. Explicitly set eval_metric if you'd like to restore the old behavior.\n",
      "[13:35:18] WARNING: C:/Users/Administrator/workspace/xgboost-win64_release_1.3.0/src/learner.cc:1061: Starting in XGBoost 1.3.0, the default evaluation metric used with the objective 'binary:logistic' was changed from 'error' to 'logloss'. Explicitly set eval_metric if you'd like to restore the old behavior.\n",
      "[13:35:18] WARNING: C:/Users/Administrator/workspace/xgboost-win64_release_1.3.0/src/learner.cc:1061: Starting in XGBoost 1.3.0, the default evaluation metric used with the objective 'binary:logistic' was changed from 'error' to 'logloss'. Explicitly set eval_metric if you'd like to restore the old behavior.\n",
      "[13:35:18] WARNING: C:/Users/Administrator/workspace/xgboost-win64_release_1.3.0/src/learner.cc:1061: Starting in XGBoost 1.3.0, the default evaluation metric used with the objective 'binary:logistic' was changed from 'error' to 'logloss'. Explicitly set eval_metric if you'd like to restore the old behavior.\n",
      "[13:35:19] WARNING: C:/Users/Administrator/workspace/xgboost-win64_release_1.3.0/src/learner.cc:1061: Starting in XGBoost 1.3.0, the default evaluation metric used with the objective 'binary:logistic' was changed from 'error' to 'logloss'. Explicitly set eval_metric if you'd like to restore the old behavior.\n",
      "[13:35:19] WARNING: C:/Users/Administrator/workspace/xgboost-win64_release_1.3.0/src/learner.cc:1061: Starting in XGBoost 1.3.0, the default evaluation metric used with the objective 'binary:logistic' was changed from 'error' to 'logloss'. Explicitly set eval_metric if you'd like to restore the old behavior.\n",
      "XGBClassifier f1: 0.948435 (0.017913)\n",
      "[13:35:19] WARNING: C:/Users/Administrator/workspace/xgboost-win64_release_1.3.0/src/learner.cc:1061: Starting in XGBoost 1.3.0, the default evaluation metric used with the objective 'binary:logistic' was changed from 'error' to 'logloss'. Explicitly set eval_metric if you'd like to restore the old behavior.\n",
      "[13:35:19] WARNING: C:/Users/Administrator/workspace/xgboost-win64_release_1.3.0/src/learner.cc:1061: Starting in XGBoost 1.3.0, the default evaluation metric used with the objective 'binary:logistic' was changed from 'error' to 'logloss'. Explicitly set eval_metric if you'd like to restore the old behavior.\n",
      "[13:35:19] WARNING: C:/Users/Administrator/workspace/xgboost-win64_release_1.3.0/src/learner.cc:1061: Starting in XGBoost 1.3.0, the default evaluation metric used with the objective 'binary:logistic' was changed from 'error' to 'logloss'. Explicitly set eval_metric if you'd like to restore the old behavior.\n",
      "[13:35:19] WARNING: C:/Users/Administrator/workspace/xgboost-win64_release_1.3.0/src/learner.cc:1061: Starting in XGBoost 1.3.0, the default evaluation metric used with the objective 'binary:logistic' was changed from 'error' to 'logloss'. Explicitly set eval_metric if you'd like to restore the old behavior.\n"
     ]
    },
    {
     "name": "stdout",
     "output_type": "stream",
     "text": [
      "[13:35:19] WARNING: C:/Users/Administrator/workspace/xgboost-win64_release_1.3.0/src/learner.cc:1061: Starting in XGBoost 1.3.0, the default evaluation metric used with the objective 'binary:logistic' was changed from 'error' to 'logloss'. Explicitly set eval_metric if you'd like to restore the old behavior.\n",
      "[13:35:19] WARNING: C:/Users/Administrator/workspace/xgboost-win64_release_1.3.0/src/learner.cc:1061: Starting in XGBoost 1.3.0, the default evaluation metric used with the objective 'binary:logistic' was changed from 'error' to 'logloss'. Explicitly set eval_metric if you'd like to restore the old behavior.\n",
      "[13:35:19] WARNING: C:/Users/Administrator/workspace/xgboost-win64_release_1.3.0/src/learner.cc:1061: Starting in XGBoost 1.3.0, the default evaluation metric used with the objective 'binary:logistic' was changed from 'error' to 'logloss'. Explicitly set eval_metric if you'd like to restore the old behavior.\n",
      "[13:35:20] WARNING: C:/Users/Administrator/workspace/xgboost-win64_release_1.3.0/src/learner.cc:1061: Starting in XGBoost 1.3.0, the default evaluation metric used with the objective 'binary:logistic' was changed from 'error' to 'logloss'. Explicitly set eval_metric if you'd like to restore the old behavior.\n",
      "[13:35:20] WARNING: C:/Users/Administrator/workspace/xgboost-win64_release_1.3.0/src/learner.cc:1061: Starting in XGBoost 1.3.0, the default evaluation metric used with the objective 'binary:logistic' was changed from 'error' to 'logloss'. Explicitly set eval_metric if you'd like to restore the old behavior.\n",
      "[13:35:20] WARNING: C:/Users/Administrator/workspace/xgboost-win64_release_1.3.0/src/learner.cc:1061: Starting in XGBoost 1.3.0, the default evaluation metric used with the objective 'binary:logistic' was changed from 'error' to 'logloss'. Explicitly set eval_metric if you'd like to restore the old behavior.\n",
      "XGBClassifier precision: 0.967272 (0.017083)\n",
      "[13:35:20] WARNING: C:/Users/Administrator/workspace/xgboost-win64_release_1.3.0/src/learner.cc:1061: Starting in XGBoost 1.3.0, the default evaluation metric used with the objective 'binary:logistic' was changed from 'error' to 'logloss'. Explicitly set eval_metric if you'd like to restore the old behavior.\n",
      "[13:35:20] WARNING: C:/Users/Administrator/workspace/xgboost-win64_release_1.3.0/src/learner.cc:1061: Starting in XGBoost 1.3.0, the default evaluation metric used with the objective 'binary:logistic' was changed from 'error' to 'logloss'. Explicitly set eval_metric if you'd like to restore the old behavior.\n",
      "[13:35:20] WARNING: C:/Users/Administrator/workspace/xgboost-win64_release_1.3.0/src/learner.cc:1061: Starting in XGBoost 1.3.0, the default evaluation metric used with the objective 'binary:logistic' was changed from 'error' to 'logloss'. Explicitly set eval_metric if you'd like to restore the old behavior.\n",
      "[13:35:20] WARNING: C:/Users/Administrator/workspace/xgboost-win64_release_1.3.0/src/learner.cc:1061: Starting in XGBoost 1.3.0, the default evaluation metric used with the objective 'binary:logistic' was changed from 'error' to 'logloss'. Explicitly set eval_metric if you'd like to restore the old behavior.\n",
      "[13:35:20] WARNING: C:/Users/Administrator/workspace/xgboost-win64_release_1.3.0/src/learner.cc:1061: Starting in XGBoost 1.3.0, the default evaluation metric used with the objective 'binary:logistic' was changed from 'error' to 'logloss'. Explicitly set eval_metric if you'd like to restore the old behavior.\n",
      "[13:35:20] WARNING: C:/Users/Administrator/workspace/xgboost-win64_release_1.3.0/src/learner.cc:1061: Starting in XGBoost 1.3.0, the default evaluation metric used with the objective 'binary:logistic' was changed from 'error' to 'logloss'. Explicitly set eval_metric if you'd like to restore the old behavior.\n",
      "[13:35:20] WARNING: C:/Users/Administrator/workspace/xgboost-win64_release_1.3.0/src/learner.cc:1061: Starting in XGBoost 1.3.0, the default evaluation metric used with the objective 'binary:logistic' was changed from 'error' to 'logloss'. Explicitly set eval_metric if you'd like to restore the old behavior.\n",
      "[13:35:21] WARNING: C:/Users/Administrator/workspace/xgboost-win64_release_1.3.0/src/learner.cc:1061: Starting in XGBoost 1.3.0, the default evaluation metric used with the objective 'binary:logistic' was changed from 'error' to 'logloss'. Explicitly set eval_metric if you'd like to restore the old behavior.\n",
      "[13:35:21] WARNING: C:/Users/Administrator/workspace/xgboost-win64_release_1.3.0/src/learner.cc:1061: Starting in XGBoost 1.3.0, the default evaluation metric used with the objective 'binary:logistic' was changed from 'error' to 'logloss'. Explicitly set eval_metric if you'd like to restore the old behavior.\n",
      "[13:35:21] WARNING: C:/Users/Administrator/workspace/xgboost-win64_release_1.3.0/src/learner.cc:1061: Starting in XGBoost 1.3.0, the default evaluation metric used with the objective 'binary:logistic' was changed from 'error' to 'logloss'. Explicitly set eval_metric if you'd like to restore the old behavior.\n",
      "XGBClassifier recall: 0.927228 (0.032428)\n",
      "AdaBoostClassifier accuracy: 0.950714 (0.019808)\n",
      "AdaBoostClassifier f1: 0.948732 (0.013846)\n",
      "AdaBoostClassifier precision: 0.968781 (0.011825)\n",
      "AdaBoostClassifier recall: 0.929490 (0.037583)\n",
      "GradientBoostingClassifier accuracy: 0.951429 (0.011867)\n",
      "GradientBoostingClassifier f1: 0.947844 (0.017179)\n",
      "GradientBoostingClassifier precision: 0.967781 (0.016175)\n",
      "GradientBoostingClassifier recall: 0.931362 (0.027511)\n",
      "GaussianNB accuracy: 0.900714 (0.037177)\n",
      "GaussianNB f1: 0.896912 (0.026468)\n",
      "GaussianNB precision: 0.921153 (0.028163)\n",
      "GaussianNB recall: 0.876600 (0.032373)\n",
      "LinearDiscriminantAnalysis accuracy: 0.932143 (0.011180)\n",
      "LinearDiscriminantAnalysis f1: 0.926767 (0.024454)\n",
      "LinearDiscriminantAnalysis precision: 0.956649 (0.035161)\n",
      "LinearDiscriminantAnalysis recall: 0.907075 (0.029010)\n",
      "QuadraticDiscriminantAnalysis accuracy: 0.861429 (0.088364)\n",
      "QuadraticDiscriminantAnalysis f1: 0.894779 (0.064510)\n",
      "QuadraticDiscriminantAnalysis precision: 0.806257 (0.158140)\n",
      "QuadraticDiscriminantAnalysis recall: 0.936231 (0.062363)\n"
     ]
    }
   ],
   "source": [
    "# Compare Algorithms\n",
    "import pandas\n",
    "import matplotlib.pyplot as plt\n",
    "from sklearn import model_selection\n",
    "from sklearn.linear_model import LogisticRegression\n",
    "from sklearn.tree import DecisionTreeClassifier\n",
    "from sklearn.neighbors import KNeighborsClassifier\n",
    "from sklearn.discriminant_analysis import LinearDiscriminantAnalysis\n",
    "from sklearn.naive_bayes import GaussianNB\n",
    "from sklearn.svm import SVC\n",
    "import sklearn.linear_model as lm\n",
    "\n",
    "# prepare configuration for cross validation test harness\n",
    "seed = 7\n",
    "# prepare models\n",
    "classifiers = [\n",
    "    ('LR',lm.LogisticRegression(solver='liblinear', random_state=0)),\n",
    "    ('KNN',KNeighborsClassifier(3)),\n",
    "    ('SVM', SVC(kernel=\"linear\", C=0.025, probability=True)),\n",
    "    ('NuSVC', NuSVC(probability=True)),\n",
    "    ('DT', DecisionTreeClassifier()),\n",
    "    ('RF', RandomForestClassifier()),\n",
    "    ('XGB', XGBClassifier()),\n",
    "    ('AdaBoost', AdaBoostClassifier()),\n",
    "    ('GradientBoost', GradientBoostingClassifier()),\n",
    "    ('GaussianNB', GaussianNB()),\n",
    "    ('LDA', LinearDiscriminantAnalysis()),\n",
    "    ('QDA', QuadraticDiscriminantAnalysis())]\n",
    "\n",
    "\n",
    "eval_metrics = ['accuracy', 'f1', 'precision', 'recall']\n",
    "dict_results = {\n",
    "    'name' : list(),\n",
    "    'accuracy' : list(),\n",
    "    'f1' : list(), \n",
    "    'precision': list(), \n",
    "    'recall' : list()\n",
    "               }\n",
    "\n",
    "for name, clf in classifiers:\n",
    "    dict_results['name'].append(clf.__class__.__name__)\n",
    "    \n",
    "    for scoring in eval_metrics:\n",
    "        kfold = model_selection.KFold(n_splits=10, shuffle=True)\n",
    "        cv_results = model_selection.cross_val_score(clf, X, y, cv=kfold, scoring=scoring)\n",
    "\n",
    "        msg = \"%s %s: %f (%f)\" % (clf.__class__.__name__, scoring, cv_results.mean(), cv_results.std())\n",
    "        print(msg)\n",
    "        \n",
    "        if scoring == 'accuracy':\n",
    "            dict_results['accuracy'].append(round(cv_results.mean(), 2))\n",
    "        elif scoring == 'f1':\n",
    "            dict_results['f1'].append(round(cv_results.mean(), 2))\n",
    "        elif scoring == 'precision':\n",
    "            dict_results['precision'].append(round(cv_results.mean(), 2))\n",
    "        elif scoring == 'recall':\n",
    "            dict_results['recall'].append(round(cv_results.mean(), 2))\n",
    "        "
   ]
  },
  {
   "cell_type": "code",
   "execution_count": 293,
   "id": "material-shuttle",
   "metadata": {},
   "outputs": [],
   "source": [
    "df_results = pd.DataFrame(dict_results)\n",
    "df_results.to_excel('results.xlsx', index=False)"
   ]
  },
  {
   "cell_type": "code",
   "execution_count": null,
   "id": "macro-texas",
   "metadata": {},
   "outputs": [],
   "source": [
    "#########################################################"
   ]
  },
  {
   "cell_type": "code",
   "execution_count": 317,
   "id": "sustained-internet",
   "metadata": {},
   "outputs": [
    {
     "name": "stdout",
     "output_type": "stream",
     "text": [
      "Feature ranking: 0\n",
      "Feature ranking: 1\n",
      "[14:07:42] WARNING: C:/Users/Administrator/workspace/xgboost-win64_release_1.3.0/src/learner.cc:1061: Starting in XGBoost 1.3.0, the default evaluation metric used with the objective 'binary:logistic' was changed from 'error' to 'logloss'. Explicitly set eval_metric if you'd like to restore the old behavior.\n",
      "Feature ranking: 2\n",
      "Feature ranking: 3\n",
      "Feature ranking: 4\n",
      "{'Phi-Coefficient', 'Support', 'Jaccard', 'Least Contradiction', 'Interestingness Weighting Dependency', 'Goodman and Kruskal', 'Accuracy', 'Odd Multiplier', 'Interest', 'Anderberg'}\n"
     ]
    }
   ],
   "source": [
    "models_feature_importance = [GradientBoostingClassifier(), AdaBoostClassifier(), XGBClassifier(), RandomForestClassifier(),DecisionTreeClassifier()]\n",
    "\n",
    "for k, clf in enumerate(models_feature_importance):\n",
    "    clf.fit(X,y)\n",
    "    importances = clf.feature_importances_\n",
    "    indices = np.argsort(importances)[::-1]\n",
    "    feature_names = df_X.columns\n",
    "    top_ten_imp_features = []\n",
    "    print(\"Feature ranking:\", k)\n",
    "    for c, f in enumerate(range(X.shape[1])):\n",
    "        if c < 10:\n",
    "            #print(\"%s : (%f)\" % (feature_names[f] , importances[indices[f]]))\n",
    "            top_ten_imp_features.append(feature_names[f])\n",
    "    if k==0:\n",
    "        common_features = set(top_ten_imp_features).intersection(feature_names)\n",
    "    else:\n",
    "        common_features = common_features.intersection(set(top_ten_imp_features))\n",
    "print(common_features)"
   ]
  },
  {
   "cell_type": "code",
   "execution_count": null,
   "id": "considerable-carter",
   "metadata": {},
   "outputs": [],
   "source": []
  }
 ],
 "metadata": {
  "kernelspec": {
   "display_name": "Python 3",
   "language": "python",
   "name": "python3"
  },
  "language_info": {
   "codemirror_mode": {
    "name": "ipython",
    "version": 3
   },
   "file_extension": ".py",
   "mimetype": "text/x-python",
   "name": "python",
   "nbconvert_exporter": "python",
   "pygments_lexer": "ipython3",
   "version": "3.7.1"
  }
 },
 "nbformat": 4,
 "nbformat_minor": 5
}
